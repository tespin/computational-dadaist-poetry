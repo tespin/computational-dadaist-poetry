{
  "nbformat": 4,
  "nbformat_minor": 0,
  "metadata": {
    "colab": {
      "provenance": [],
      "toc_visible": true
    },
    "kernelspec": {
      "name": "python3",
      "display_name": "Python 3"
    }
  },
  "cells": [
    {
      "cell_type": "markdown",
      "metadata": {
        "id": "g8UFsnguounQ"
      },
      "source": [
        "# **Computational Dadaist Poetry 💌🧑‍💻**\n",
        "By Tristan Espinoza\n",
        "\n",
        "This is a tutorial on how to use code to write poetry à la [Tristan Tzara](https://www.writing.upenn.edu/~afilreis/88v/tzara.html). We'll use the [Python](https://www.python.org/) programming language and [Google Colab](https://colab.research.google.com/notebooks/intro.ipynb) to write code in the browser. If you're an excellent coder / have familiarity with setting up your own environment, you might try something like [Jupyter Notebook](https://jupyter.org/).\n",
        "\n",
        "All the code is pre-written, so you don't need to know any Python in order to run the program. You also don't need a Google account to view this tutorial. You **do** need to log into a Google account to execute code. \n",
        "\n",
        "A few notes:\n",
        "- This tutorial is adapted from and heavily inspired by the work of [Allison Parrish](https://www.decontextualize.com/).\n",
        "- We're using Python because it's well-documented and has a large community.\n",
        "- Google isn't ideal, but most alternatives require installing additional software, and Colab makes it easy to write and share code without that complexity."
      ]
    },
    {
      "cell_type": "markdown",
      "metadata": {
        "id": "NTuL-xGPz6ne"
      },
      "source": [
        "# **First words 🌱**"
      ]
    },
    {
      "cell_type": "markdown",
      "metadata": {
        "id": "6AsIYMqt0E7B"
      },
      "source": [
        "The simplest program in the world is a single line of code."
      ]
    },
    {
      "cell_type": "code",
      "metadata": {
        "colab": {
          "base_uri": "https://localhost:8080/"
        },
        "id": "XPleVr0_0agG",
        "outputId": "671c628c-b158-4d8c-9552-d3fba8c46662"
      },
      "source": [
        "print(\"What I'm writing to you goes on and I am bewitched.\")"
      ],
      "execution_count": null,
      "outputs": [
        {
          "output_type": "stream",
          "text": [
            "What I'm writing to you goes on and I am bewitched.\n"
          ],
          "name": "stdout"
        }
      ]
    },
    {
      "cell_type": "markdown",
      "metadata": {
        "id": "yOVcigMm45AE"
      },
      "source": [
        "It has 4 components:\n",
        "- the word \"print\"\n",
        "- parentheses\n",
        "- quotation marks\n",
        "- the text to be printed"
      ]
    },
    {
      "cell_type": "markdown",
      "metadata": {
        "id": "VfwbDlDoVXcF"
      },
      "source": [
        "**common errors**"
      ]
    },
    {
      "cell_type": "markdown",
      "metadata": {
        "id": "R-mK8UtP6ZW5"
      },
      "source": [
        "What happens when one or more of these things aren't there? Run the next few cells and take note of what shows up."
      ]
    },
    {
      "cell_type": "code",
      "metadata": {
        "colab": {
          "base_uri": "https://localhost:8080/"
        },
        "id": "IFITVpx06jqQ",
        "outputId": "6755d064-73ac-4f27-c034-3a8c409459ac"
      },
      "source": [
        "prin(\"What I'm writing to you goes on and I am bewitched.\")"
      ],
      "execution_count": null,
      "outputs": [
        {
          "output_type": "stream",
          "text": [
            "What I'm writing to you goes on and I am bewitched.\n"
          ],
          "name": "stdout"
        }
      ]
    },
    {
      "cell_type": "code",
      "metadata": {
        "id": "p9clU27v6nk7",
        "colab": {
          "base_uri": "https://localhost:8080/"
        },
        "outputId": "5326614a-ad70-4cd8-e96a-f7f47d4deea2"
      },
      "source": [
        "print(\"What I'm writing to you goes on and I am bewitched.\""
      ],
      "execution_count": null,
      "outputs": [
        {
          "output_type": "stream",
          "text": [
            "What I'm writing to you goes on and I am bewitched.\n"
          ],
          "name": "stdout"
        }
      ]
    },
    {
      "cell_type": "code",
      "metadata": {
        "id": "lr-nVLIT6tA2",
        "colab": {
          "base_uri": "https://localhost:8080/"
        },
        "outputId": "731d7edc-05b4-4a41-f6a3-88bdcf060797"
      },
      "source": [
        "print(What I'm writing to you goes on and I am bewitched.)"
      ],
      "execution_count": null,
      "outputs": [
        {
          "output_type": "stream",
          "text": [
            "What I'm writing to you goes on and I am bewitched.\n"
          ],
          "name": "stdout"
        }
      ]
    },
    {
      "cell_type": "code",
      "metadata": {
        "id": "ixsl84bL6Wx7",
        "colab": {
          "base_uri": "https://localhost:8080/"
        },
        "outputId": "aa3c821a-353b-46c5-cdd2-f24553027066"
      },
      "source": [
        "print(\"\")"
      ],
      "execution_count": null,
      "outputs": [
        {
          "output_type": "stream",
          "text": [
            "hello\n"
          ],
          "name": "stdout"
        }
      ]
    },
    {
      "cell_type": "markdown",
      "metadata": {
        "id": "6ebb5KaNLB06"
      },
      "source": [
        "Errors can point to one or more issues in your code. Most of the joys and frustrations of programming come from resolving errors. Luckily, these errors are relatively simple and can be fixed by tending to any typos, such as misspelled words or missing parentheses."
      ]
    },
    {
      "cell_type": "markdown",
      "metadata": {
        "id": "x3pUiH94CLeX"
      },
      "source": [
        "**the print function**"
      ]
    },
    {
      "cell_type": "markdown",
      "metadata": {
        "id": "cvNdxViRCYOK"
      },
      "source": [
        "`print()` is a tool for outputting text. There is lots of documentation on [how to use it](https://docs.python.org/3/library/functions.html#print)."
      ]
    },
    {
      "cell_type": "markdown",
      "metadata": {
        "id": "ORuj1WaC50nc"
      },
      "source": [
        "You can print single words:"
      ]
    },
    {
      "cell_type": "code",
      "metadata": {
        "id": "sdsSUVEb53n6",
        "colab": {
          "base_uri": "https://localhost:8080/"
        },
        "outputId": "72f263b1-9ab5-4c36-8e07-e39ce048e03d"
      },
      "source": [
        "print(\"bewitched\")"
      ],
      "execution_count": null,
      "outputs": [
        {
          "output_type": "stream",
          "text": [
            "bewitched\n"
          ],
          "name": "stdout"
        }
      ]
    },
    {
      "cell_type": "markdown",
      "metadata": {
        "id": "lozCnBRP6G0j"
      },
      "source": [
        "Numbers:"
      ]
    },
    {
      "cell_type": "code",
      "metadata": {
        "id": "aVjgdQdI6IiE",
        "colab": {
          "base_uri": "https://localhost:8080/"
        },
        "outputId": "27bac592-c6d1-496b-f24f-5fa326c088de"
      },
      "source": [
        "print(\"6000\")"
      ],
      "execution_count": null,
      "outputs": [
        {
          "output_type": "stream",
          "text": [
            "6000\n"
          ],
          "name": "stdout"
        }
      ]
    },
    {
      "cell_type": "markdown",
      "metadata": {
        "id": "imeI_Ke27bKV"
      },
      "source": [
        "Or a combination with the + sign:"
      ]
    },
    {
      "cell_type": "code",
      "metadata": {
        "id": "R7Rz0yfR8KBM",
        "colab": {
          "base_uri": "https://localhost:8080/"
        },
        "outputId": "ffabba78-5fa5-4d3c-a09a-eaf649317fdd"
      },
      "source": [
        "print(\"What I'm writing to you goes on\" + \"and I am bewitched.\")"
      ],
      "execution_count": null,
      "outputs": [
        {
          "output_type": "stream",
          "text": [
            "What I'm writing to you goes onand I am bewitched.\n"
          ],
          "name": "stdout"
        }
      ]
    },
    {
      "cell_type": "code",
      "metadata": {
        "id": "AGg-0Wl48QSG",
        "colab": {
          "base_uri": "https://localhost:8080/"
        },
        "outputId": "4cb16cd4-2d20-4892-9bf8-5c97145c028e"
      },
      "source": [
        "print(\"What I'm writing to you goes on\" + \" 6000\")"
      ],
      "execution_count": null,
      "outputs": [
        {
          "output_type": "stream",
          "text": [
            "What I'm writing to you goes on 6000\n"
          ],
          "name": "stdout"
        }
      ]
    },
    {
      "cell_type": "markdown",
      "metadata": {
        "id": "KApitkml83FS"
      },
      "source": [
        "**variables**"
      ]
    },
    {
      "cell_type": "markdown",
      "metadata": {
        "id": "yFON2fT9-BSe"
      },
      "source": [
        "Variables are used as placeholders, and are replaced with their values once the program runs. Variables can be created by typing the name of the variable, followed by the equals sign, followed by the value. For example, we can break up the sentence \"I want to paint a rose\" into two variables: one called `subject` and another called `predicate` and give them the following values:"
      ]
    },
    {
      "cell_type": "code",
      "metadata": {
        "id": "Kiqu0kQC9UwY"
      },
      "source": [
        "subject =  \"I\"\n",
        "predicate = \" want to paint a rose\""
      ],
      "execution_count": null,
      "outputs": []
    },
    {
      "cell_type": "markdown",
      "metadata": {
        "id": "edBq1HzmpUFD"
      },
      "source": [
        "Let's print those variables to check what we've set them to."
      ]
    },
    {
      "cell_type": "code",
      "metadata": {
        "id": "Lyl5K7xtxySQ",
        "colab": {
          "base_uri": "https://localhost:8080/"
        },
        "outputId": "c9736458-8881-4205-9ea9-8aa8044e63eb"
      },
      "source": [
        "print(subject)\n",
        "print(predicate)"
      ],
      "execution_count": null,
      "outputs": [
        {
          "output_type": "stream",
          "text": [
            "I\n",
            " want to paint a rose\n"
          ],
          "name": "stdout"
        }
      ]
    },
    {
      "cell_type": "markdown",
      "metadata": {
        "id": "l-Km4ozroSJO"
      },
      "source": [
        "Combining them yields our original sentence:"
      ]
    },
    {
      "cell_type": "code",
      "metadata": {
        "id": "5wBmfDiK-PEN",
        "colab": {
          "base_uri": "https://localhost:8080/"
        },
        "outputId": "75edd67b-f004-43c5-db1d-ad589b91448d"
      },
      "source": [
        "print(subject + predicate)"
      ],
      "execution_count": null,
      "outputs": [
        {
          "output_type": "stream",
          "text": [
            "I want to paint a rose\n"
          ],
          "name": "stdout"
        }
      ]
    },
    {
      "cell_type": "markdown",
      "metadata": {
        "id": "yx33p9Zb_iWe"
      },
      "source": [
        "You can name variables whatever you want, but it's generally good practice to make them short and memorable so that you or somebody else who reads your code can understand what's happening. "
      ]
    },
    {
      "cell_type": "code",
      "metadata": {
        "colab": {
          "base_uri": "https://localhost:8080/"
        },
        "id": "6DlzHZFZ_hfm",
        "outputId": "1d2fb9cc-4e1b-40dd-95df-0fd6fec35a0a"
      },
      "source": [
        "subj = \"I\"\n",
        "pred = \" want to paint a rose\"\n",
        "print (subj + pred)"
      ],
      "execution_count": null,
      "outputs": [
        {
          "output_type": "stream",
          "text": [
            "I want to paint a rose\n"
          ],
          "name": "stdout"
        }
      ]
    },
    {
      "cell_type": "code",
      "metadata": {
        "colab": {
          "base_uri": "https://localhost:8080/"
        },
        "id": "Hxq2vbFQqEfo",
        "outputId": "e965690d-4c9c-4a8c-9699-944a504bb212"
      },
      "source": [
        "awnef = \"I\"\n",
        "nvcxz = \" want to paint a rose\"\n",
        "print(awnef + nvcxz)"
      ],
      "execution_count": null,
      "outputs": [
        {
          "output_type": "stream",
          "text": [
            "I want to paint a rose\n"
          ],
          "name": "stdout"
        }
      ]
    },
    {
      "cell_type": "markdown",
      "metadata": {
        "id": "S_dF-DDz-pMx"
      },
      "source": [
        "If we had more than one subject, we can just put all our options into a `list`. Lists in Python contain multiple choices. To turn a variable into a list, just separate all your words with a comma, and add opening and closing brackets:\n",
        "\n"
      ]
    },
    {
      "cell_type": "code",
      "metadata": {
        "id": "vHnpaKT5-oAa"
      },
      "source": [
        "subjects = [\"I\", \"They\", \"We\"]"
      ],
      "execution_count": null,
      "outputs": []
    },
    {
      "cell_type": "markdown",
      "metadata": {
        "id": "ASWuJINVSBzZ"
      },
      "source": [
        "**the `random` module**"
      ]
    },
    {
      "cell_type": "markdown",
      "metadata": {
        "id": "JaYgE3w9EDBh"
      },
      "source": [
        "`import` statements let us bring other chunks of code into our program. You can import code that lets you manipulate images, get the time, or perform other advanced computations. We'll bring in code that lets us make random decisions."
      ]
    },
    {
      "cell_type": "code",
      "metadata": {
        "id": "gSIrmlXnD8D-"
      },
      "source": [
        "import random"
      ],
      "execution_count": null,
      "outputs": []
    },
    {
      "cell_type": "markdown",
      "metadata": {
        "id": "ItZL5IfMSKih"
      },
      "source": [
        "Now we can use code that comes with the imported `random` module. For example, the `choice()` function randomly chooses a value from a list. To make it choose from the `subject` list we defined earlier, we can write the following line of code:\n"
      ]
    },
    {
      "cell_type": "code",
      "metadata": {
        "id": "yzfSW8_nD1Ac",
        "colab": {
          "base_uri": "https://localhost:8080/"
        },
        "outputId": "2403a823-36a2-4fc9-cd56-3c3dbeb5e9e7"
      },
      "source": [
        "print(random.choice(subjects))"
      ],
      "execution_count": null,
      "outputs": [
        {
          "output_type": "stream",
          "text": [
            "I\n"
          ],
          "name": "stdout"
        }
      ]
    },
    {
      "cell_type": "markdown",
      "metadata": {
        "id": "Ujhb8kIW0mnA"
      },
      "source": [
        "We can combine the randomly chosen word with our `predicate` variable to display the complete sentence."
      ]
    },
    {
      "cell_type": "code",
      "metadata": {
        "id": "yqQ6wv8Fz6nf",
        "colab": {
          "base_uri": "https://localhost:8080/"
        },
        "outputId": "ba1d5736-ee40-450e-82d3-097709b3b36b"
      },
      "source": [
        "print(random.choice(subjects) + predicate)"
      ],
      "execution_count": null,
      "outputs": [
        {
          "output_type": "stream",
          "text": [
            "I want to paint a rose\n"
          ],
          "name": "stdout"
        }
      ]
    },
    {
      "cell_type": "markdown",
      "metadata": {
        "id": "YfO36uUL2OUl"
      },
      "source": [
        "A quick note: the syntax for `choice()` is a little different from `print()`. We can use `print()` by name and simply type it as is. However, you cannot use `choice()` as is. If you do, an error comes up:"
      ]
    },
    {
      "cell_type": "code",
      "metadata": {
        "colab": {
          "base_uri": "https://localhost:8080/",
          "height": 172
        },
        "id": "7vHrqMeP3d7R",
        "outputId": "636122f0-f318-4d8e-bd28-56e709e2710c"
      },
      "source": [
        "choice(subjects)"
      ],
      "execution_count": null,
      "outputs": [
        {
          "output_type": "error",
          "ename": "NameError",
          "evalue": "ignored",
          "traceback": [
            "\u001b[0;31m---------------------------------------------------------------------------\u001b[0m",
            "\u001b[0;31mNameError\u001b[0m                                 Traceback (most recent call last)",
            "\u001b[0;32m<ipython-input-48-bdd42656229e>\u001b[0m in \u001b[0;36m<module>\u001b[0;34m()\u001b[0m\n\u001b[0;32m----> 1\u001b[0;31m \u001b[0mchoice\u001b[0m\u001b[0;34m(\u001b[0m\u001b[0msubjects\u001b[0m\u001b[0;34m)\u001b[0m\u001b[0;34m\u001b[0m\u001b[0;34m\u001b[0m\u001b[0m\n\u001b[0m",
            "\u001b[0;31mNameError\u001b[0m: name 'choice' is not defined"
          ]
        }
      ]
    },
    {
      "cell_type": "markdown",
      "metadata": {
        "id": "NkY8R2Fp3i1P"
      },
      "source": [
        "We saw this error above, and basically it means that the computer **doesn't know what `choice()` is or does.** It only knows about `choice` if we associate it with the `random` module. This is done by adding a dot after the name of the module and then following it with the `choice` function. Which is why this doesn't produce an error:"
      ]
    },
    {
      "cell_type": "code",
      "metadata": {
        "id": "6u3B_m9Y465_"
      },
      "source": [
        "print(random.choice(subjects))"
      ],
      "execution_count": null,
      "outputs": []
    },
    {
      "cell_type": "markdown",
      "metadata": {
        "id": "o0a3IjUl5PSC"
      },
      "source": [
        "This is popularly known as dot syntax and is part of many programming languages. We don't need to dive much more into this, but dot syntax will show up a few more times in this tutorial, so it's good to acknowledge."
      ]
    },
    {
      "cell_type": "markdown",
      "metadata": {
        "id": "VKf8LcHo1s3t"
      },
      "source": [
        "**adding more complexity**"
      ]
    },
    {
      "cell_type": "markdown",
      "metadata": {
        "id": "_4bPgo6c7662"
      },
      "source": [
        "Let's make this more interesting by adding alternatives to \"rose\"."
      ]
    },
    {
      "cell_type": "code",
      "metadata": {
        "id": "fycfqibn8H5n"
      },
      "source": [
        "objects = [\"a rose\", \"a lily\", \"a hibiscus\"]"
      ],
      "execution_count": null,
      "outputs": []
    },
    {
      "cell_type": "markdown",
      "metadata": {
        "id": "WaziolXl_HZe"
      },
      "source": [
        "To display our randomly generated sentence:"
      ]
    },
    {
      "cell_type": "code",
      "metadata": {
        "id": "yc6wvjB9-V_N",
        "colab": {
          "base_uri": "https://localhost:8080/"
        },
        "outputId": "fd1ce8ae-ce0e-46ea-b7c3-3fed62e7be11"
      },
      "source": [
        "print(random.choice(subjects) + \" want to paint \" + random.choice(objects))"
      ],
      "execution_count": null,
      "outputs": [
        {
          "output_type": "stream",
          "text": [
            "We want to paint a hibiscus\n"
          ],
          "name": "stdout"
        }
      ]
    },
    {
      "cell_type": "markdown",
      "metadata": {
        "id": "F2FFrhEpT9fO"
      },
      "source": [
        "Just for fun, we can also add options for the verb, \"paint\":"
      ]
    },
    {
      "cell_type": "code",
      "metadata": {
        "id": "5zMh-BbkUCQp"
      },
      "source": [
        "verbs = [\"paint \", \"eat \", \"grow \", \"become \"]"
      ],
      "execution_count": null,
      "outputs": []
    },
    {
      "cell_type": "markdown",
      "metadata": {
        "id": "qTS5xC9dUyV0"
      },
      "source": [
        "And now we can use this line of code to quickly generate our sentences:"
      ]
    },
    {
      "cell_type": "code",
      "metadata": {
        "colab": {
          "base_uri": "https://localhost:8080/"
        },
        "id": "kqhJBEXlUNl3",
        "outputId": "7a3ae002-1741-428a-9615-0ed6add8b37d"
      },
      "source": [
        "print(random.choice(subjects) + \" want to \" + random.choice(verbs) + random.choice(objects))"
      ],
      "execution_count": null,
      "outputs": [
        {
          "output_type": "stream",
          "text": [
            "They want to eat a hibiscus\n"
          ],
          "name": "stdout"
        }
      ]
    },
    {
      "cell_type": "markdown",
      "metadata": {
        "id": "E3EgZmAVaex1"
      },
      "source": [
        "To recap:\n",
        "\n",
        "- The `print()` function is useful for displaying text and the value of variables to the screen.\n",
        "- Variables are placeholders, and when the program runs, they are switched out with the values they are assigned.\n",
        "- Variables can contain multiple values.\n",
        "- We can bring in other modules of code using the `import` statement.\n",
        "- The `random` module makes it easy to randomly select one value from a longer list of values. \n",
        "\n",
        "We can combine all of these techniques to generate complex sentences fairly quickly."
      ]
    },
    {
      "cell_type": "markdown",
      "metadata": {
        "id": "XmZ2WOxD6O6Z"
      },
      "source": [
        "# **Dada Generator 🍄**"
      ]
    },
    {
      "cell_type": "markdown",
      "metadata": {
        "id": "eAMf27JqdgsS"
      },
      "source": [
        "In the above section, we worked with a single sentence and replaced specific words with randomly chosen alternatives. Let's think and feel through how to do this with larger chunks of text."
      ]
    },
    {
      "cell_type": "markdown",
      "metadata": {
        "id": "hO8hlxFrfDfk"
      },
      "source": [
        "We'll be using the `random` module again, so let's go ahead and make sure that's imported."
      ]
    },
    {
      "cell_type": "code",
      "metadata": {
        "id": "WAFk1G2-fHxK"
      },
      "source": [
        "import random"
      ],
      "execution_count": null,
      "outputs": []
    },
    {
      "cell_type": "markdown",
      "metadata": {
        "id": "CoRTWzhPiFEn"
      },
      "source": [
        "Now we can define a variable with the text we want to use. Here I'll take an excerpt from Clarice Lispector's *Agua Viva*:"
      ]
    },
    {
      "cell_type": "code",
      "metadata": {
        "id": "pPfCXM4KkD2r"
      },
      "source": [
        "paragraph = \"Let me tell you: I'm trying to seize the fourth dimension of this instant-now so fleeting that it's already gone because it's already become a new instant-now that's also already gone. Every thing has an instant in which it is. I want to grab hold of the is of the thing. These instants passing through the air I breathe: in fireworks they explode silently in space. I want to possess the atoms of time.\""
      ],
      "execution_count": null,
      "outputs": []
    },
    {
      "cell_type": "markdown",
      "metadata": {
        "id": "K44kf3diklCY"
      },
      "source": [
        "Or if you want something a little more readable, you can use triple quotation marks at the beginning and end of your excerpt, and this signals to the computer that it should interpret the whole thing as a single paragraph, even if you press keys like `Enter`, `Return` or `Tab`."
      ]
    },
    {
      "cell_type": "code",
      "metadata": {
        "id": "L8GKrsxEjHUA"
      },
      "source": [
        "paragraph = \"\"\"\n",
        "Let me tell you: I'm trying to seize the fourth dimension \n",
        "of this instant-now so fleeting that it's already gone \n",
        "because it's already become a new instant-now that's \n",
        "also already gone. Every thing has an instant in which it\n",
        "is. I want to grab hold of the is of the thing. These instants\n",
        "passing through the air I breathe: in fireworks they explode\n",
        "silently in space. I want to possess the atoms of time.\n",
        "\"\"\""
      ],
      "execution_count": null,
      "outputs": []
    },
    {
      "cell_type": "markdown",
      "metadata": {
        "id": "2z9wEOmDlsAn"
      },
      "source": [
        "Print your text to see that it looks correct."
      ]
    },
    {
      "cell_type": "code",
      "metadata": {
        "colab": {
          "base_uri": "https://localhost:8080/"
        },
        "id": "VE5hCDxYlzvD",
        "outputId": "a64ac684-f10c-496a-8c20-6edecc988798"
      },
      "source": [
        "print(paragraph)"
      ],
      "execution_count": null,
      "outputs": [
        {
          "output_type": "stream",
          "text": [
            "\n",
            "Let me tell you: I'm trying to seize the fourth dimension \n",
            "of this instant-now so fleeting that it's already gone \n",
            "because it's already become a new instant-now that's \n",
            "also already gone. Every thing has an instant in which it\n",
            "is. I want to grab hold of the is of the thing. These instants\n",
            "passing through the air I breathe: in fireworks they explode\n",
            "silently in space. I want to possess the atoms of time.\n",
            "\n"
          ],
          "name": "stdout"
        }
      ]
    },
    {
      "cell_type": "markdown",
      "metadata": {
        "id": "5Rx8nx27nBQN"
      },
      "source": [
        "We made our sentence generator by defining several lists and randomly selecting a word from each list to insert into our sentence. We want to do something similar here by putting all the words in the `paragraph` variable into a list. Thankfully, we can use the `split()` function to do this automatically. `split()`, like `choice()`, can only be used by associating it with the `paragraph` variable using dot syntax:"
      ]
    },
    {
      "cell_type": "code",
      "metadata": {
        "id": "NwSrAjl47sAc"
      },
      "source": [
        "words = paragraph.split()"
      ],
      "execution_count": null,
      "outputs": []
    },
    {
      "cell_type": "markdown",
      "metadata": {
        "id": "rQXva91A9vII"
      },
      "source": [
        "Now you can print your `words` variable to output a list of all the words in your paragraph:"
      ]
    },
    {
      "cell_type": "code",
      "metadata": {
        "colab": {
          "base_uri": "https://localhost:8080/"
        },
        "id": "yi3ziUvu7vp-",
        "outputId": "41fbc5ba-9e4b-41e9-857b-c317f992e969"
      },
      "source": [
        "print(words)"
      ],
      "execution_count": null,
      "outputs": [
        {
          "output_type": "stream",
          "text": [
            "['Let', 'me', 'tell', 'you:', \"I'm\", 'trying', 'to', 'seize', 'the', 'fourth', 'dimension', 'of', 'this', 'instant-now', 'so', 'fleeting', 'that', \"it's\", 'already', 'gone', 'because', \"it's\", 'already', 'become', 'a', 'new', 'instant-now', \"that's\", 'also', 'already', 'gone.', 'Every', 'thing', 'has', 'an', 'instant', 'in', 'which', 'it', 'is.', 'I', 'want', 'to', 'grab', 'hold', 'of', 'the', 'is', 'of', 'the', 'thing.', 'These', 'instants', 'passing', 'through', 'the', 'air', 'I', 'breathe:', 'in', 'fireworks', 'they', 'explode', 'silently', 'in', 'space.', 'I', 'want', 'to', 'possess', 'the', 'atoms', 'of', 'time.']\n"
          ],
          "name": "stdout"
        }
      ]
    },
    {
      "cell_type": "markdown",
      "metadata": {
        "id": "EjYnM3pb-AxB"
      },
      "source": [
        "Let's randomize their order by using another function from the `random` module, called `shuffle()`, and printing the result. You can run this cell repeatedly to get a different order of words each time:"
      ]
    },
    {
      "cell_type": "code",
      "metadata": {
        "colab": {
          "base_uri": "https://localhost:8080/"
        },
        "id": "lnyUhxfP-IjB",
        "outputId": "1f55ac57-f1a1-4196-e1df-3849f04c8ed4"
      },
      "source": [
        "random.shuffle(words)\n",
        "print(words)"
      ],
      "execution_count": null,
      "outputs": [
        {
          "output_type": "stream",
          "text": [
            "['instants', 'of', 'air', 'Every', 'space.', 'already', 'trying', 'gone.', 'an', 'that', 'Let', 'gone', 'instant', 'thing', 'fireworks', 'you:', 'the', 'become', 'it', 'to', 'of', 'I', 'passing', \"it's\", 'in', 'which', 'These', 'atoms', 'also', 'thing.', 'fleeting', 'so', 'explode', 'is.', 'breathe:', 'seize', 'grab', 'in', 'has', 'is', 'the', 'time.', 'possess', 'this', 'of', 'the', 'instant-now', \"that's\", 'instant-now', 'me', 'through', 'I', 'in', 'because', 'fourth', 'to', \"it's\", 'new', 'dimension', 'to', 'a', 'silently', 'the', 'of', 'I', 'want', 'they', \"I'm\", 'hold', 'already', 'want', 'already', 'the', 'tell']\n"
          ],
          "name": "stdout"
        }
      ]
    },
    {
      "cell_type": "markdown",
      "metadata": {
        "id": "jqod73gE-jZ-"
      },
      "source": [
        "Now that we have our randomized list of words, we can finally create our Dadaist poem! We will use the `join()` function and tell it to join each of the words in our randomized list with whitespace (represented as a space between the quotation marks, \" \"):"
      ]
    },
    {
      "cell_type": "code",
      "metadata": {
        "colab": {
          "base_uri": "https://localhost:8080/"
        },
        "id": "nVANuCge_cWS",
        "outputId": "7be522e7-8062-46c8-9cd3-8b09cebfa5b3"
      },
      "source": [
        "poem = \" \".join(words)\n",
        "print(poem)"
      ],
      "execution_count": null,
      "outputs": [
        {
          "output_type": "stream",
          "text": [
            "instants of air Every space. already trying gone. an that Let gone instant thing fireworks you: the become it to of I passing it's in which These atoms also thing. fleeting so explode is. breathe: seize grab in has is the time. possess this of the instant-now that's instant-now me through I in because fourth to it's new dimension to a silently the of I want they I'm hold already want already the tell\n"
          ],
          "name": "stdout"
        }
      ]
    },
    {
      "cell_type": "markdown",
      "metadata": {
        "id": "5wcRDgtQDfV_"
      },
      "source": [
        "You can change the whitespace into another character, like a hashtag (\"#\"), if that feels interesting and exciting for you. "
      ]
    },
    {
      "cell_type": "code",
      "metadata": {
        "colab": {
          "base_uri": "https://localhost:8080/"
        },
        "id": "aF1FD7WYDsqe",
        "outputId": "0badcccb-7140-4865-b65d-507addce209a"
      },
      "source": [
        "poem = \"#\".join(words)\n",
        "print(poem)"
      ],
      "execution_count": null,
      "outputs": [
        {
          "output_type": "stream",
          "text": [
            "instants#of#air#Every#space.#already#trying#gone.#an#that#Let#gone#instant#thing#fireworks#you:#the#become#it#to#of#I#passing#it's#in#which#These#atoms#also#thing.#fleeting#so#explode#is.#breathe:#seize#grab#in#has#is#the#time.#possess#this#of#the#instant-now#that's#instant-now#me#through#I#in#because#fourth#to#it's#new#dimension#to#a#silently#the#of#I#want#they#I'm#hold#already#want#already#the#tell\n"
          ],
          "name": "stdout"
        }
      ]
    },
    {
      "cell_type": "markdown",
      "metadata": {
        "id": "31Cna_sbD4nW"
      },
      "source": [
        "**cleaning up**"
      ]
    },
    {
      "cell_type": "markdown",
      "metadata": {
        "id": "zwu8TOJ2AKvH"
      },
      "source": [
        "An optional, but maybe worthwhile thing to do is format the poem so that it is more legible. We can do this by importing a convenient module called `textwrap`:"
      ]
    },
    {
      "cell_type": "code",
      "metadata": {
        "id": "0JDhQOMwAylc"
      },
      "source": [
        "import textwrap"
      ],
      "execution_count": null,
      "outputs": []
    },
    {
      "cell_type": "markdown",
      "metadata": {
        "id": "9o6soIW-BFPr"
      },
      "source": [
        "and using its `fill` function, like so:"
      ]
    },
    {
      "cell_type": "code",
      "metadata": {
        "colab": {
          "base_uri": "https://localhost:8080/"
        },
        "id": "YVpBfgSuBH_G",
        "outputId": "acb03eae-fd2f-41c5-e3de-6ec9fcdca095"
      },
      "source": [
        "print(textwrap.fill(poem, 40))"
      ],
      "execution_count": null,
      "outputs": [
        {
          "output_type": "stream",
          "text": [
            "instants of air Every space. already\n",
            "trying gone. an that Let gone instant\n",
            "thing fireworks you: the become it to of\n",
            "I passing it's in which These atoms also\n",
            "thing. fleeting so explode is. breathe:\n",
            "seize grab in has is the time. possess\n",
            "this of the instant-now that's instant-\n",
            "now me through I in because fourth to\n",
            "it's new dimension to a silently the of\n",
            "I want they I'm hold already want\n",
            "already the tell\n"
          ],
          "name": "stdout"
        }
      ]
    },
    {
      "cell_type": "markdown",
      "metadata": {
        "id": "f-Jy2ILrBp_H"
      },
      "source": [
        "The code above asks the computer to join our list of words with spaces between them, then it formats the output so that each line in our poem doesn't contain more than 60 characters, and finally arranges each line into a paragraph and prints that out as output. Feel free to play with the max number of characters (here it is set to 40) and test out different character lengths. "
      ]
    },
    {
      "cell_type": "markdown",
      "metadata": {
        "id": "cY6QOP_JIKqJ"
      },
      "source": [
        "**everything together**"
      ]
    },
    {
      "cell_type": "markdown",
      "metadata": {
        "id": "8gRqRIhAE1oN"
      },
      "source": [
        "The following cell collects all our code into one place so that you can generate your poems without having to run all of the code in this notebook."
      ]
    },
    {
      "cell_type": "code",
      "metadata": {
        "colab": {
          "base_uri": "https://localhost:8080/"
        },
        "id": "kw9l7nG7jU-G",
        "outputId": "50e6c4be-b1b7-4075-a93f-e6db3af74558"
      },
      "source": [
        "import random\n",
        "import textwrap\n",
        "\n",
        "# you can replace this with your paragraph\n",
        "paragraph = \"\"\"\n",
        "Let me tell you: I'm trying to seize the fourth dimension \n",
        "of this instant-now so fleeting that it's already gone \n",
        "because it's already become a new instant-now that's \n",
        "also already gone. Every thing has an instant in which it\n",
        "is. I want to grab hold of the is of the thing. These instants\n",
        "passing through the air I breathe: in fireworks they explode\n",
        "silently in space. I want to possess the atoms of time.\n",
        "\"\"\"\n",
        "\n",
        "words = paragraph.split()\n",
        "random.shuffle(words)\n",
        "poem = \" \".join(words)\n",
        "\n",
        "# 40 can be replaced with a different value, making each line shorter or longer\n",
        "print(textwrap.fill(poem, 40))"
      ],
      "execution_count": null,
      "outputs": [
        {
          "output_type": "stream",
          "text": [
            "want the dimension gone. the already to\n",
            "also a so instant-now These silently\n",
            "that is to Let you: in has an through\n",
            "air in possess it tell thing. I they\n",
            "that's want because me the it's become\n",
            "instant-now which seize of trying grab\n",
            "explode instant of the the hold in atoms\n",
            "to already passing of I fireworks space.\n",
            "it's new this fourth instants I thing\n",
            "breathe: time. gone is. already fleeting\n",
            "of I'm Every\n"
          ],
          "name": "stdout"
        }
      ]
    },
    {
      "cell_type": "markdown",
      "metadata": {
        "id": "-8oyIXePFymP"
      },
      "source": [
        "Now you have a computational Dadaist poem generator that you can run in your browser! "
      ]
    },
    {
      "cell_type": "markdown",
      "metadata": {
        "id": "00WCkywq6npZ"
      },
      "source": [
        "# **[Optional] Using your own text ✨**"
      ]
    },
    {
      "cell_type": "markdown",
      "metadata": {
        "id": "F1J_7C-teaft"
      },
      "source": [
        "You can replace these cells with your own text, but what if you wanted to work with an even larger corpus, such as a book, or something from your own writing? The next few lines of code take you through downloading a text file from the internet and creating a Dadaist poem from its contents. Some new syntax is introduced. As with the rest of this tutorial, the goal is not mastery, but play and practice. "
      ]
    },
    {
      "cell_type": "markdown",
      "metadata": {
        "id": "mNwPZU7GjG-6"
      },
      "source": [
        "Let's start by using the `wget` command to download a text from [Project Gutenberg](https://www.gutenberg.org/), a website that archives free books with expired copyrights / are in the public domain."
      ]
    },
    {
      "cell_type": "code",
      "metadata": {
        "colab": {
          "base_uri": "https://localhost:8080/"
        },
        "id": "VeoWHdzkbdcr",
        "outputId": "844d48dd-1020-4796-8a81-39d07eb8525f"
      },
      "source": [
        "!wget https://www.gutenberg.org/cache/epub/19726/pg19726.txt"
      ],
      "execution_count": null,
      "outputs": [
        {
          "output_type": "stream",
          "text": [
            "--2021-01-29 00:33:55--  https://www.gutenberg.org/cache/epub/19726/pg19726.txt\n",
            "Resolving www.gutenberg.org (www.gutenberg.org)... 152.19.134.47, 2610:28:3090:3000:0:bad:cafe:47\n",
            "Connecting to www.gutenberg.org (www.gutenberg.org)|152.19.134.47|:443... connected.\n",
            "HTTP request sent, awaiting response... 200 OK\n",
            "Length: 262909 (257K) [text/plain]\n",
            "Saving to: ‘pg19726.txt’\n",
            "\n",
            "pg19726.txt         100%[===================>] 256.75K   139KB/s    in 1.9s    \n",
            "\n",
            "2021-01-29 00:33:58 (139 KB/s) - ‘pg19726.txt’ saved [262909/262909]\n",
            "\n"
          ],
          "name": "stdout"
        }
      ]
    },
    {
      "cell_type": "markdown",
      "metadata": {
        "id": "E3PEcaMLjziK"
      },
      "source": [
        "Next, we can open the file (located in the left column after clicking on the folder icon), read it into our program, and store its contents in a variable:"
      ]
    },
    {
      "cell_type": "code",
      "metadata": {
        "id": "PMBACgRdbhY1"
      },
      "source": [
        "text = open(\"pg19726.txt\").read()"
      ],
      "execution_count": null,
      "outputs": []
    },
    {
      "cell_type": "markdown",
      "metadata": {
        "id": "iaKR8Lmvj9UE"
      },
      "source": [
        "The next line prints the first 500 words of the text using Python's slice notation."
      ]
    },
    {
      "cell_type": "code",
      "metadata": {
        "colab": {
          "base_uri": "https://localhost:8080/"
        },
        "id": "sBh7UHaPbpJg",
        "outputId": "d601a2cf-0248-4156-9c50-4e0da53bca7a"
      },
      "source": [
        "print(text[:500])"
      ],
      "execution_count": null,
      "outputs": [
        {
          "output_type": "stream",
          "text": [
            "﻿Project Gutenberg's The Door Through Space, by Marion Zimmer Bradley\n",
            "\n",
            "This eBook is for the use of anyone anywhere at no cost and with\n",
            "almost no restrictions whatsoever.  You may copy it, give it away or\n",
            "re-use it under the terms of the Project Gutenberg License included\n",
            "with this eBook or online at www.gutenberg.org\n",
            "\n",
            "\n",
            "Title: The Door Through Space\n",
            "\n",
            "Author: Marion Zimmer Bradley\n",
            "\n",
            "Release Date: November 6, 2006 [EBook #19726]\n",
            "[Last updated: August 19, 2011]\n",
            "\n",
            "Language: English\n",
            "\n",
            "\n",
            "*** START OF THIS\n"
          ],
          "name": "stdout"
        }
      ]
    },
    {
      "cell_type": "markdown",
      "metadata": {
        "id": "lp2c3CBSkQus"
      },
      "source": [
        "The first 500 words in this text seem to be about the book's licensing and metadata. Fascinating, but we may want words from the actual narrative. Let's grab a different chunk of the text between the 5000th and 6000th word:"
      ]
    },
    {
      "cell_type": "code",
      "metadata": {
        "id": "ssmC4NhZlM3y"
      },
      "source": [
        "chunk = text[5000:6000]"
      ],
      "execution_count": null,
      "outputs": []
    },
    {
      "cell_type": "markdown",
      "metadata": {
        "id": "z_QfmSdklS_d"
      },
      "source": [
        "and print it out to see what we got:"
      ]
    },
    {
      "cell_type": "code",
      "metadata": {
        "colab": {
          "base_uri": "https://localhost:8080/"
        },
        "id": "Vn6wNq31lQgL",
        "outputId": "d17835f1-e418-44be-901d-63bf237645fb"
      },
      "source": [
        "print(chunk)"
      ],
      "execution_count": null,
      "outputs": [
        {
          "output_type": "stream",
          "text": [
            "s. I could not yet understand\n",
            "the cries; but they were out for blood, and I knew it.\n",
            "\n",
            "I said briefly, \"Trouble coming,\" just before the mob spilled out into\n",
            "the square. The fleeing dwarf stared about wildly for an instant, his\n",
            "head jerking from side to side so rapidly that it was impossible to get\n",
            "even a fleeting impression of his face--human or nonhuman, familiar or\n",
            "bizarre. Then, like a pellet loosed from its sling, he made straight for\n",
            "the gateway and safety.\n",
            "\n",
            "And behind him the loping mob yelled and howled and came pouring over\n",
            "half the square. Just half. Then by that sudden intuition which\n",
            "permeates even the most crazed mob with some semblance of reason, they\n",
            "came to a ragged halt, heads turning from side to side.\n",
            "\n",
            "I stepped up on the lower step of the Headquarters building, and looked\n",
            "them over.\n",
            "\n",
            "Most of them were _chaks_, the furred man-tall nonhumans of the Kharsa,\n",
            "and not the better class. Their fur was unkempt, their tails naked with\n",
            "filth and disease. Their leather aprons hu\n"
          ],
          "name": "stdout"
        }
      ]
    },
    {
      "cell_type": "markdown",
      "metadata": {
        "id": "U9EysSx-lg-X"
      },
      "source": [
        "It might be fun to play with those values to curate your output."
      ]
    },
    {
      "cell_type": "markdown",
      "metadata": {
        "id": "sTFh8OdcllVV"
      },
      "source": [
        "Next, we can use `split()` to make a list out of those words and create a variable:"
      ]
    },
    {
      "cell_type": "code",
      "metadata": {
        "id": "NkwgXHg6b3To"
      },
      "source": [
        "words = chunk.split()"
      ],
      "execution_count": null,
      "outputs": []
    },
    {
      "cell_type": "markdown",
      "metadata": {
        "id": "AEvBACzhmR5D"
      },
      "source": [
        "and randomly display 20 words from that list:"
      ]
    },
    {
      "cell_type": "code",
      "metadata": {
        "colab": {
          "base_uri": "https://localhost:8080/"
        },
        "id": "8XaOx6b_cFjG",
        "outputId": "5e0f62ca-e2a3-4339-ee7d-d46b962d3205"
      },
      "source": [
        "random.sample(words, 20)"
      ],
      "execution_count": null,
      "outputs": [
        {
          "output_type": "execute_result",
          "data": {
            "text/plain": [
              "['with',\n",
              " 'aprons',\n",
              " 'tails',\n",
              " 'turning',\n",
              " 'for',\n",
              " '\"Trouble',\n",
              " 'out',\n",
              " 's.',\n",
              " 'came',\n",
              " 'from',\n",
              " 'his',\n",
              " 'familiar',\n",
              " 'were',\n",
              " 'it',\n",
              " 'the',\n",
              " 'dwarf',\n",
              " 'intuition',\n",
              " 'side',\n",
              " 'on',\n",
              " 'said']"
            ]
          },
          "metadata": {
            "tags": []
          },
          "execution_count": 105
        }
      ]
    },
    {
      "cell_type": "markdown",
      "metadata": {
        "id": "AnUOE7Sgm9SF"
      },
      "source": [
        "Like before, we randomize the order of the words with `random.shuffle()`:"
      ]
    },
    {
      "cell_type": "code",
      "metadata": {
        "id": "n4rAprmJcWC2"
      },
      "source": [
        "random.shuffle(words)"
      ],
      "execution_count": null,
      "outputs": []
    },
    {
      "cell_type": "markdown",
      "metadata": {
        "id": "sixzBjzInRC2"
      },
      "source": [
        "then join them together and print the output."
      ]
    },
    {
      "cell_type": "code",
      "metadata": {
        "colab": {
          "base_uri": "https://localhost:8080/"
        },
        "id": "QIuOgpP_cZvg",
        "outputId": "561d6587-698c-4399-b222-2173f0f1a740"
      },
      "source": [
        "poem = \" \".join(words[:100])\n",
        "print(textwrap.fill(poem, 60))"
      ],
      "execution_count": null,
      "outputs": [
        {
          "output_type": "stream",
          "text": [
            "their up square. and safety. lower the it. of building, was\n",
            "step fleeting made Just they his impossible dwarf them said\n",
            "to fur pellet nonhuman, Their them so yet or hu that spilled\n",
            "nonhumans And \"Trouble the the stared square. even stepped\n",
            "it Kharsa, of bizarre. get unkempt, but gateway a tails like\n",
            "permeates half for to knew the mob and even could just out\n",
            "pouring aprons from briefly, intuition yelled Their the was\n",
            "side. semblance furred for were some sling, by not from\n",
            "loosed crazed I reason, that cries; the class. before side\n",
            "face--human half. they Then, its and\n"
          ],
          "name": "stdout"
        }
      ]
    },
    {
      "cell_type": "markdown",
      "metadata": {
        "id": "q7V2lSuUnwli"
      },
      "source": [
        "Done! This is now a Dadaist poem generator that uses 100 words from a sci-fi novel. You can play with that value in order to coax out different results. Try the cells below to play with your output:"
      ]
    },
    {
      "cell_type": "code",
      "metadata": {
        "colab": {
          "base_uri": "https://localhost:8080/"
        },
        "id": "S4G82qXIoR3q",
        "outputId": "d39ce750-80e1-4295-ce61-30d938484670"
      },
      "source": [
        "# you can redirect the url here to one of your choosing\n",
        "!wget https://www.gutenberg.org/cache/epub/19726/pg19726.txt\n",
        "\n",
        "# read the file into the program\n",
        "text = open(\"pg19726.txt\").read()"
      ],
      "execution_count": null,
      "outputs": [
        {
          "output_type": "stream",
          "text": [
            "--2021-01-27 02:28:14--  https://www.gutenberg.org/cache/epub/19726/pg19726.txt\n",
            "Resolving www.gutenberg.org (www.gutenberg.org)... 152.19.134.47, 2610:28:3090:3000:0:bad:cafe:47\n",
            "Connecting to www.gutenberg.org (www.gutenberg.org)|152.19.134.47|:443... connected.\n",
            "HTTP request sent, awaiting response... 200 OK\n",
            "Length: 262909 (257K) [text/plain]\n",
            "Saving to: ‘pg19726.txt.3’\n",
            "\n",
            "pg19726.txt.3       100%[===================>] 256.75K   408KB/s    in 0.6s    \n",
            "\n",
            "2021-01-27 02:28:15 (408 KB/s) - ‘pg19726.txt.3’ saved [262909/262909]\n",
            "\n"
          ],
          "name": "stdout"
        }
      ]
    },
    {
      "cell_type": "code",
      "metadata": {
        "colab": {
          "base_uri": "https://localhost:8080/"
        },
        "id": "DSM8e7EepS3C",
        "outputId": "17c541f4-3d39-48de-9a92-ef9b58650d83"
      },
      "source": [
        "# pick a chunk of text to make a poem out of. you can adjust the values here\n",
        "chunk = text[2500:3500]\n",
        "\n",
        "# make a list out of those words\n",
        "words = chunk.split()\n",
        "\n",
        "# shuffle them, then join each word and print to the screen\n",
        "random.shuffle(words)\n",
        "\n",
        "# feel free to replace 100 with a different number, or add a starting position to the left of the colon\n",
        "poem = \" \".join(words[:100])\n",
        "print(textwrap.fill(poem, 60))"
      ],
      "execution_count": null,
      "outputs": [
        {
          "output_type": "stream",
          "text": [
            "_won't_ men beyond has It willing enlarged young read we\n",
            "hunger of unfamiliar world rapidly kind I a new headlines. a\n",
            "modern, live a which pad-padding long to with and the a\n",
            "science-fiction the just * loves awareness echoes moons, of\n",
            "DOOR THROUGH raising of of world old thief. spaceport are\n",
            "tomorrow's too and see. were and human, hunting helped the\n",
            "Kharsa now there way world ZIMMER in. By little changing\n",
            "large, the ONE heard wrote SPACE. the science-fiction the as\n",
            "the cries, The wonder to the with readers for ease as The\n",
            "think, place. a miraculous morning's a world\n"
          ],
          "name": "stdout"
        }
      ]
    },
    {
      "cell_type": "markdown",
      "metadata": {
        "id": "DqwU12bp7vVV"
      },
      "source": [
        "# **Next Steps ♾️**"
      ]
    },
    {
      "cell_type": "markdown",
      "metadata": {
        "id": "iTBE7jg7sOJL"
      },
      "source": [
        "Writing code can be hard and weird and wonderful. If you're interested in continuing to explore software and programming as creative material, here are some beginner-friendly to advanced resources for creative coding + coding with language.\n",
        "\n",
        "- [Tracery](https://tracery.io/): Quick and easy to learn text generation tool that can be used in JavaScript and Python. Created by [Kate Compton](http://www.galaxykate.com/).\n",
        "- [Corpora](https://github.com/dariusk/corpora): Preformatted lists of things from weather phenomena to names of Greek deities. A project by [Darius Kazemi](http://tinysubversions.com/).\n",
        "- [Train a GPT-2 Text-Generating Model](https://colab.research.google.com/drive/1VLG8e7YSEwypxU-noRNhsv5dW4NfTGce): A Colab notebook, like this one, where you can train a machine learning model on a body of text and generate similar output. Works well, but errors are common and some familiarity with Python/GitHub can be helpful. Compiled by [Max Woolf](https://minimaxir.com/).\n",
        "- [spaCy](https://spacy.io/): Super robust library for natural language processing. Takes some know-how to install and use. It's put together by a software company called [Explosion](https://explosion.ai/about).\n",
        "- [Processing](https://processing.org/): A free, friendly starter language with a focus on pedagogy and community. This platform is supported by their non-profit, the [Processing Foundation](https://processingfoundation.org/).\n",
        "- [p5.js](https://p5js.org/): A JavaScript version of Processing featuring an in-browser code editor. The community has a rotating leadership model, and it's currently led by [Moira Turner](https://github.com/mcturner1995).\n",
        "- [ml5.js](https://ml5js.org/): A machine learning library written in JavaScript. It is spiritually indebted to the work and community of Processing + p5.js. This library is maintained by folx in and around [NYU's ITP/IMA program](https://tisch.nyu.edu/itp).\n",
        "- [openFrameworks](https://openframeworks.cc/): A creative coding toolkit, but in C++. It will feel familiar if you come from Processing although it's more low-level. [A team of volunteers](https://github.com/openframeworks/) actively maintain and contribute to it."
      ]
    }
  ]
}